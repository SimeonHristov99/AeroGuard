{
 "cells": [
  {
   "cell_type": "code",
   "execution_count": 2,
   "metadata": {},
   "outputs": [
    {
     "name": "stderr",
     "output_type": "stream",
     "text": [
      "Some weights of the model checkpoint at bert-base-uncased were not used when initializing BertModel: ['cls.predictions.transform.dense.weight', 'cls.seq_relationship.weight', 'cls.predictions.transform.LayerNorm.weight', 'cls.seq_relationship.bias', 'cls.predictions.transform.LayerNorm.bias', 'cls.predictions.transform.dense.bias', 'cls.predictions.decoder.weight', 'cls.predictions.bias']\n",
      "- This IS expected if you are initializing BertModel from the checkpoint of a model trained on another task or with another architecture (e.g. initializing a BertForSequenceClassification model from a BertForPreTraining model).\n",
      "- This IS NOT expected if you are initializing BertModel from the checkpoint of a model that you expect to be exactly identical (initializing a BertForSequenceClassification model from a BertForSequenceClassification model).\n"
     ]
    },
    {
     "name": "stdout",
     "output_type": "stream",
     "text": [
      "tensor([[0.2030, 0.2346, 0.1150, 0.2954, 0.1520]], grad_fn=<SoftmaxBackward0>)\n"
     ]
    }
   ],
   "source": [
    "import torch\n",
    "from transformers import BertModel, BertTokenizer\n",
    "\n",
    "# Load pre-trained BERT model and tokenizer\n",
    "model_name = 'bert-base-uncased'\n",
    "tokenizer = BertTokenizer.from_pretrained(model_name)\n",
    "bert_model = BertModel.from_pretrained(model_name)\n",
    "\n",
    "# Define your classifier model using BERT as feature extractor\n",
    "class BERTClassifier(torch.nn.Module):\n",
    "    def __init__(self, bert_model, num_classes):\n",
    "        super(BERTClassifier, self).__init__()\n",
    "        self.bert_model = bert_model\n",
    "        self.classifier = torch.nn.Linear(bert_model.config.hidden_size, num_classes)\n",
    "\n",
    "    def forward(self, input_ids, attention_mask):\n",
    "        # Pass input through BERT model\n",
    "        outputs = self.bert_model(input_ids, attention_mask=attention_mask)\n",
    "        pooled_output = outputs.pooler_output\n",
    "\n",
    "        # Pass pooled output through linear layer for classification\n",
    "        logits = self.classifier(pooled_output)\n",
    "        probabilities = torch.softmax(logits, dim=1)\n",
    "        return probabilities\n",
    "\n",
    "# Example usage\n",
    "num_classes = 5  # Number of output classes\n",
    "\n",
    "model = BERTClassifier(bert_model, num_classes)\n",
    "input_text = [\"# 1 Bleed Value MEL inoperative.  Aircraft limited to FL310.  At FL310 we got a #2 Bleed Valve Fault.  As per ECAM tried to reset it.  It would not reset.  Advised Center that we lost the ability to Pressurize and requested a descent to 10;000 ft.  Flew direct to ZZZ at 9;000 feet to an uneventful landing.#2 Bleed fault with no reset.   #1 Bleed Valve MEL inop.  Fix the Bleed Value when it breaks and do not MEL it.\"]  # Example input text\n",
    "input_ids = tokenizer(input_text, truncation=True, padding=True, return_tensors='pt')['input_ids']\n",
    "attention_mask = tokenizer(input_text, truncation=True, padding=True, return_tensors='pt')['attention_mask']\n",
    "\n",
    "output_probs = model(input_ids, attention_mask)\n",
    "print(output_probs)\n"
   ]
  },
  {
   "cell_type": "code",
   "execution_count": 5,
   "metadata": {},
   "outputs": [
    {
     "name": "stderr",
     "output_type": "stream",
     "text": [
      "Some weights of the model checkpoint at bert-base-uncased were not used when initializing BertModel: ['cls.predictions.transform.dense.weight', 'cls.seq_relationship.weight', 'cls.predictions.transform.LayerNorm.weight', 'cls.seq_relationship.bias', 'cls.predictions.transform.LayerNorm.bias', 'cls.predictions.transform.dense.bias', 'cls.predictions.decoder.weight', 'cls.predictions.bias']\n",
      "- This IS expected if you are initializing BertModel from the checkpoint of a model trained on another task or with another architecture (e.g. initializing a BertForSequenceClassification model from a BertForPreTraining model).\n",
      "- This IS NOT expected if you are initializing BertModel from the checkpoint of a model that you expect to be exactly identical (initializing a BertForSequenceClassification model from a BertForSequenceClassification model).\n"
     ]
    },
    {
     "name": "stdout",
     "output_type": "stream",
     "text": [
      "Epoch: 1, Loss: 1.5227749347686768\n",
      "Epoch: 2, Loss: 1.4760149717330933\n",
      "Epoch: 3, Loss: 1.4523686170578003\n",
      "Predicted class: 0, Probabilities: tensor([[0.2402, 0.1911, 0.2002, 0.1866, 0.1819]])\n"
     ]
    }
   ],
   "source": [
    "import torch\n",
    "from transformers import BertModel, BertTokenizer\n",
    "\n",
    "# Load pre-trained BERT model and tokenizer\n",
    "model_name = 'bert-base-uncased'\n",
    "tokenizer = BertTokenizer.from_pretrained(model_name)\n",
    "bert_model = BertModel.from_pretrained(model_name)\n",
    "\n",
    "# Define your classifier model using BERT as feature extractor\n",
    "class BERTClassifier(torch.nn.Module):\n",
    "    def __init__(self, bert_model, num_classes):\n",
    "        super(BERTClassifier, self).__init__()\n",
    "        self.bert_model = bert_model\n",
    "        self.classifier = torch.nn.Linear(bert_model.config.hidden_size, num_classes)\n",
    "\n",
    "    def forward(self, input_ids, attention_mask):\n",
    "        # Pass input through BERT model\n",
    "        outputs = self.bert_model(input_ids, attention_mask=attention_mask)\n",
    "        pooled_output = outputs.pooler_output\n",
    "\n",
    "        # Pass pooled output through linear layer for classification\n",
    "        logits = self.classifier(pooled_output)\n",
    "        probabilities = torch.softmax(logits, dim=1)\n",
    "        return probabilities\n",
    "\n",
    "# Example usage for fine-tuning\n",
    "num_classes = 5  # Number of output classes\n",
    "device = torch.device('cuda' if torch.cuda.is_available() else 'cpu')\n",
    "\n",
    "model = BERTClassifier(bert_model, num_classes).to(device)\n",
    "input_text = [\"Example input text\"]  # Example input text\n",
    "labels = torch.tensor([0])  # Example labels\n",
    "input_ids = tokenizer(input_text, truncation=True, padding=True, return_tensors='pt')['input_ids'].to(device)\n",
    "attention_mask = tokenizer(input_text, truncation=True, padding=True, return_tensors='pt')['attention_mask'].to(device)\n",
    "labels = labels.expand(input_ids.size(0)).to(device)  # Expand the target tensor to match batch size\n",
    "\n",
    "# Set up optimizer and loss function\n",
    "optimizer = torch.optim.AdamW(model.parameters(), lr=2e-5)\n",
    "criterion = torch.nn.CrossEntropyLoss()\n",
    "\n",
    "# Training loop\n",
    "model.train()\n",
    "num_epochs = 3\n",
    "\n",
    "for epoch in range(num_epochs):\n",
    "    optimizer.zero_grad()\n",
    "\n",
    "    # Forward pass\n",
    "    outputs = model(input_ids, attention_mask)\n",
    "    loss = criterion(outputs, labels)\n",
    "\n",
    "    # Backward pass and optimization\n",
    "    loss.backward()\n",
    "    optimizer.step()\n",
    "\n",
    "    print(f\"Epoch: {epoch + 1}, Loss: {loss.item()}\")\n",
    "\n",
    "# Evaluation\n",
    "model.eval()\n",
    "with torch.no_grad():\n",
    "    outputs = model(input_ids, attention_mask)\n",
    "    probabilities = torch.softmax(outputs, dim=1)\n",
    "    predicted_class = torch.argmax(probabilities, dim=1)\n",
    "    print(f\"Predicted class: {predicted_class.item()}, Probabilities: {probabilities}\")"
   ]
  },
  {
   "cell_type": "code",
   "execution_count": null,
   "metadata": {},
   "outputs": [],
   "source": [
    "# Evaluation\n",
    "model.eval()\n",
    "with torch.no_grad():\n",
    "    outputs = model(input_ids, attention_mask)\n",
    "    probabilities = torch.softmax(outputs.squeeze(), dim=1)\n",
    "    predicted_class = torch.argmax(probabilities, dim=1)\n",
    "    print(f\"Predicted class: {predicted_class.item()}, Probabilities: {probabilities}\")"
   ]
  }
 ],
 "metadata": {
  "kernelspec": {
   "display_name": ".venv",
   "language": "python",
   "name": "python3"
  },
  "language_info": {
   "codemirror_mode": {
    "name": "ipython",
    "version": 3
   },
   "file_extension": ".py",
   "mimetype": "text/x-python",
   "name": "python",
   "nbconvert_exporter": "python",
   "pygments_lexer": "ipython3",
   "version": "3.10.6"
  },
  "orig_nbformat": 4
 },
 "nbformat": 4,
 "nbformat_minor": 2
}
